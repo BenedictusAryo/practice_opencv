{
 "cells": [
  {
   "cell_type": "markdown",
   "metadata": {},
   "source": [
    "# Homework\n",
    "## Assignment 2: Create a Face Annotation Tool\n",
    "Now that you have learnt how to use mouse for annotation with OpenCV, it's time to put your concepts to a test. In this assignment, you will create a GUI application which will let the user **create a bounding box around a face present in the input image and save the cropped face automatically.**\n",
    "\n",
    "We have given below a video demo of the expected output.\n",
    "\n",
    "### Grading\n",
    "The assignment carries **30 marks** and will be graded manually by staff members. Make sure that you submit a working code as you will not be awarded any marks if your code doesn't work.\n",
    "\n",
    "**Note that only _1 submission_ will be allowed so make sure that you test your code properly before submitting.**\n",
    "\n",
    "What to submit?\n",
    "Please submit the following files in zip format:\n",
    "\n",
    "1. A working Python script - **submission.py**\n",
    "\n",
    "2. All the required data files.\n",
    "\n",
    "3. Any other necessary file.\n",
    "\n",
    "**While grading, we will just unzip your submission and run your code. So make sure that you have submitted all the files required.**\n",
    "\n"
   ]
  },
  {
   "cell_type": "code",
   "execution_count": 5,
   "metadata": {},
   "outputs": [
    {
     "data": {
      "image/jpeg": "[encoded data removed]",
      "text/html": [
       "\n",
       "        <iframe\n",
       "            width=\"800\"\n",
       "            height=\"600\"\n",
       "            src=\"https://www.youtube.com/embed/66w4VdklWaA\"\n",
       "            frameborder=\"0\"\n",
       "            allowfullscreen\n",
       "        ></iframe>\n",
       "        "
      ],
      "text/plain": [
       "<IPython.lib.display.YouTubeVideo at 0x180aacd2390>"
      ]
     },
     "execution_count": 5,
     "metadata": {},
     "output_type": "execute_result"
    }
   ],
   "source": [
    "from IPython.display import YouTubeVideo\n",
    "YouTubeVideo('66w4VdklWaA', width=800, height=600)"
   ]
  },
  {
   "cell_type": "markdown",
   "metadata": {},
   "source": [
    "# Solution:\n",
    "\n",
    "```python\n",
    "import cv2\n",
    "import math\n",
    " \n",
    "# Lists to store the points\n",
    "topleft=[]\n",
    "bottomright=[]\n",
    " \n",
    "def drawSquare(action, x, y, flags, userdata):\n",
    "  # Referencing global variables \n",
    "  global topleft, bottomright\n",
    "  # Action to be taken when left mouse button is pressed\n",
    "  if action==cv2.EVENT_LBUTTONDOWN:\n",
    "    topleft=[(x,y)]\n",
    "    # Mark the vertex\n",
    "    cv2.circle(source, topleft[0], 1, (255,255,0), 2, cv2.LINE_AA )\n",
    " \n",
    "  # Action to be taken when left mouse button is released\n",
    "  elif action==cv2.EVENT_LBUTTONUP:\n",
    "    bottomright=[(x,y)]\n",
    "    # Mark the vertex\n",
    "    cv2.circle(source, bottomright[0], 1, (255,255,0),2, cv2.LINE_AA )\n",
    "    # Draw the square\n",
    "    cv2.rectangle(source, topleft[0], bottomright[0], (255,255,0), 2, cv2.LINE_AA)\n",
    "    cv2.imwrite(\"face.png\",source[topleft[0][1]:bottomright[0][1],\\\n",
    "            topleft[0][0]:bottomright[0][0]])\n",
    "    cv2.imshow(\"Window\",source)\n",
    " \n",
    " \n",
    "source = cv2.imread(\"../data/images/sample.jpg\",1)\n",
    "# Make a dummy image, will be useful to clear the drawing\n",
    "dummy = source.copy()\n",
    "cv2.namedWindow(\"Window\")\n",
    "# highgui function called when mouse events occur\n",
    "cv2.setMouseCallback(\"Window\", drawSquare)\n",
    "k = 0\n",
    "# loop until escape character is pressed\n",
    "while k!=27 :\n",
    "  \n",
    "  cv2.imshow(\"Window\", source)\n",
    "  cv2.putText(source,'''Choose top left corner, and drag, \n",
    "                      Press ESC to exit and c to clear''' ,\n",
    "              (10,30), cv2.FONT_HERSHEY_SIMPLEX, \n",
    "              0.7,(255,255,255), 2 );\n",
    "  k = cv2.waitKey(20) & 0xFF\n",
    "  # Another way of cloning\n",
    "  if k==99:\n",
    "    source= dummy.copy()\n",
    " \n",
    "cv2.destroyAllWindows()\n",
    "```"
   ]
  },
  {
   "cell_type": "code",
   "execution_count": null,
   "metadata": {},
   "outputs": [],
   "source": []
  }
 ],
 "metadata": {
  "kernelspec": {
   "display_name": "Python 3",
   "language": "python",
   "name": "python3"
  },
  "language_info": {
   "codemirror_mode": {
    "name": "ipython",
    "version": 3
   },
   "file_extension": ".py",
   "mimetype": "text/x-python",
   "name": "python",
   "nbconvert_exporter": "python",
   "pygments_lexer": "ipython3",
   "version": "3.7.3"
  }
 },
 "nbformat": 4,
 "nbformat_minor": 4
}
