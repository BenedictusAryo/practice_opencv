{
 "cells": [
  {
   "cell_type": "markdown",
   "metadata": {},
   "source": [
    "# Homework\n",
    "## Assignment 2: Create a Face Annotation Tool\n",
    "Now that you have learnt how to use mouse for annotation with OpenCV, it's time to put your concepts to a test. In this assignment, you will create a GUI application which will let the user **create a bounding box around a face present in the input image and save the cropped face automatically.**\n",
    "\n",
    "We have given below a video demo of the expected output.\n",
    "\n",
    "### Grading\n",
    "The assignment carries **30 marks** and will be graded manually by staff members. Make sure that you submit a working code as you will not be awarded any marks if your code doesn't work.\n",
    "\n",
    "**Note that only _1 submission_ will be allowed so make sure that you test your code properly before submitting.**\n",
    "\n",
    "What to submit?\n",
    "Please submit the following files in zip format:\n",
    "\n",
    "1. A working Python script - **submission.py**\n",
    "\n",
    "2. All the required data files.\n",
    "\n",
    "3. Any other necessary file.\n",
    "\n",
    "**While grading, we will just unzip your submission and run your code. So make sure that you have submitted all the files required.**"
   ]
  },
  {
   "cell_type": "code",
   "execution_count": null,
   "metadata": {},
   "outputs": [],
   "source": []
  }
 ],
 "metadata": {
  "kernelspec": {
   "display_name": "Python 3",
   "language": "python",
   "name": "python3"
  },
  "language_info": {
   "codemirror_mode": {
    "name": "ipython",
    "version": 3
   },
   "file_extension": ".py",
   "mimetype": "text/x-python",
   "name": "python",
   "nbconvert_exporter": "python",
   "pygments_lexer": "ipython3",
   "version": "3.7.3"
  }
 },
 "nbformat": 4,
 "nbformat_minor": 2
}
