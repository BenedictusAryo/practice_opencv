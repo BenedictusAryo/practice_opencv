{
 "cells": [
  {
   "cell_type": "code",
   "execution_count": 6,
   "metadata": {},
   "outputs": [
    {
     "name": "stdout",
     "output_type": "stream",
     "text": [
      "Collecting plotly\n",
      "  Downloading https://files.pythonhosted.org/packages/70/19/8437e22c84083a6d5d8a3c80f4edc73c9dcbb89261d07e6bd13b48752bbd/plotly-4.1.1-py2.py3-none-any.whl (7.1MB)\n",
      "Requirement already satisfied, skipping upgrade: six in c:\\users\\bennedict\\anaconda3\\lib\\site-packages (from plotly) (1.12.0)\n",
      "Requirement already satisfied, skipping upgrade: retrying>=1.3.3 in c:\\users\\bennedict\\anaconda3\\lib\\site-packages (from plotly) (1.3.3)\n",
      "Installing collected packages: plotly\n",
      "  Found existing installation: plotly 3.9.0\n",
      "    Uninstalling plotly-3.9.0:\n",
      "      Successfully uninstalled plotly-3.9.0\n",
      "Successfully installed plotly-4.1.1\n"
     ]
    },
    {
     "name": "stderr",
     "output_type": "stream",
     "text": [
      "ERROR: plotly-express 0.2.2 requires pandas>=0.20.0, which is not installed.\n",
      "ERROR: plotly-express 0.2.2 requires patsy>=0.5, which is not installed.\n",
      "ERROR: plotly-express 0.2.2 requires scipy>=0.18, which is not installed.\n",
      "ERROR: plotly-express 0.2.2 requires statsmodels>=0.9.0, which is not installed.\n",
      "ERROR: dash 0.39.0 requires Flask>=0.12, which is not installed.\n",
      "ERROR: cufflinks 0.15 requires pandas>=0.19.2, which is not installed.\n"
     ]
    }
   ],
   "source": [
    "!pip install --upgrade plotly"
   ]
  },
  {
   "cell_type": "code",
   "execution_count": 5,
   "metadata": {},
   "outputs": [
    {
     "ename": "ModuleNotFoundError",
     "evalue": "No module named 'plotly.graph_objects'",
     "output_type": "error",
     "traceback": [
      "\u001b[1;31m---------------------------------------------------------------------------\u001b[0m",
      "\u001b[1;31mModuleNotFoundError\u001b[0m                       Traceback (most recent call last)",
      "\u001b[1;32m<ipython-input-5-71b3b93fe9fc>\u001b[0m in \u001b[0;36m<module>\u001b[1;34m\u001b[0m\n\u001b[0;32m      1\u001b[0m \u001b[1;32mimport\u001b[0m \u001b[0mnumpy\u001b[0m \u001b[1;32mas\u001b[0m \u001b[0mnp\u001b[0m\u001b[1;33m\u001b[0m\u001b[1;33m\u001b[0m\u001b[0m\n\u001b[0;32m      2\u001b[0m \u001b[1;32mimport\u001b[0m \u001b[0mplotly\u001b[0m\u001b[1;33m.\u001b[0m\u001b[0moffline\u001b[0m \u001b[1;32mas\u001b[0m \u001b[0mpyo\u001b[0m\u001b[1;33m\u001b[0m\u001b[1;33m\u001b[0m\u001b[0m\n\u001b[1;32m----> 3\u001b[1;33m \u001b[1;32mimport\u001b[0m \u001b[0mplotly\u001b[0m\u001b[1;33m.\u001b[0m\u001b[0mgraph_objects\u001b[0m \u001b[1;32mas\u001b[0m \u001b[0mgo\u001b[0m\u001b[1;33m\u001b[0m\u001b[1;33m\u001b[0m\u001b[0m\n\u001b[0m",
      "\u001b[1;31mModuleNotFoundError\u001b[0m: No module named 'plotly.graph_objects'"
     ]
    }
   ],
   "source": [
    "import numpy as np\n",
    "import plotly.offline as pyo\n",
    "import plotly.graph_objects as go"
   ]
  },
  {
   "cell_type": "code",
   "execution_count": 4,
   "metadata": {},
   "outputs": [
    {
     "ename": "ValueError",
     "evalue": "\n    Invalid value of type 'plotly.graph_objs.Scatter' received for the 'data' property of \n        Received value: Scatter({\n    'mode': 'markers',\n    'x': array([ 0.        ,  0.1010101 ,  0.2020202 ,  0.3030303 ,  0.4040404 ,\n                 0.50505051,  0.60606061,  0.70707071,  0.80808081,  0.90909091,\n                 1.01010101,  1.11111111,  1.21212121,  1.31313131,  1.41414141,\n                 1.51515152,  1.61616162,  1.71717172,  1.81818182,  1.91919192,\n                 2.02020202,  2.12121212,  2.22222222,  2.32323232,  2.42424242,\n                 2.52525253,  2.62626263,  2.72727273,  2.82828283,  2.92929293,\n                 3.03030303,  3.13131313,  3.23232323,  3.33333333,  3.43434343,\n                 3.53535354,  3.63636364,  3.73737374,  3.83838384,  3.93939394,\n                 4.04040404,  4.14141414,  4.24242424,  4.34343434,  4.44444444,\n                 4.54545455,  4.64646465,  4.74747475,  4.84848485,  4.94949495,\n                 5.05050505,  5.15151515,  5.25252525,  5.35353535,  5.45454545,\n                 5.55555556,  5.65656566,  5.75757576,  5.85858586,  5.95959596,\n                 6.06060606,  6.16161616,  6.26262626,  6.36363636,  6.46464646,\n                 6.56565657,  6.66666667,  6.76767677,  6.86868687,  6.96969697,\n                 7.07070707,  7.17171717,  7.27272727,  7.37373737,  7.47474747,\n                 7.57575758,  7.67676768,  7.77777778,  7.87878788,  7.97979798,\n                 8.08080808,  8.18181818,  8.28282828,  8.38383838,  8.48484848,\n                 8.58585859,  8.68686869,  8.78787879,  8.88888889,  8.98989899,\n                 9.09090909,  9.19191919,  9.29292929,  9.39393939,  9.49494949,\n                 9.5959596 ,  9.6969697 ,  9.7979798 ,  9.8989899 , 10.        ]),\n    'y': array([ 0.        ,  0.10083842,  0.20064886,  0.2984138 ,  0.39313661,\n                 0.48385164,  0.56963411,  0.64960951,  0.72296256,  0.78894546,\n                 0.84688556,  0.8961922 ,  0.93636273,  0.96698762,  0.98775469,\n                 0.99845223,  0.99897117,  0.98930624,  0.96955595,  0.93992165,\n                 0.90070545,  0.85230712,  0.79522006,  0.73002623,  0.65739025,\n                 0.57805259,  0.49282204,  0.40256749,  0.30820902,  0.21070855,\n                 0.11106004,  0.01027934, -0.09060615, -0.19056796, -0.28858706,\n                -0.38366419, -0.47483011, -0.56115544, -0.64176014, -0.7158225 ,\n                -0.7825875 , -0.84137452, -0.89158426, -0.93270486, -0.96431712,\n                -0.98609877, -0.99782778, -0.99938456, -0.99075324, -0.97202182,\n                -0.94338126, -0.90512352, -0.85763861, -0.80141062, -0.73701276,\n                -0.66510151, -0.58640998, -0.50174037, -0.41195583, -0.31797166,\n                -0.22074597, -0.12126992, -0.0205576 ,  0.0803643 ,  0.18046693,\n                 0.27872982,  0.37415123,  0.46575841,  0.55261747,  0.63384295,\n                 0.7086068 ,  0.77614685,  0.83577457,  0.8868821 ,  0.92894843,\n                 0.96154471,  0.98433866,  0.99709789,  0.99969234,  0.99209556,\n                 0.97438499,  0.94674118,  0.90944594,  0.86287948,  0.8075165 ,\n                 0.74392141,  0.6727425 ,  0.59470541,  0.51060568,  0.42130064,\n                 0.32770071,  0.23076008,  0.13146699,  0.03083368, -0.07011396,\n                -0.17034683, -0.26884313, -0.36459873, -0.45663749, -0.54402111])\n})\n\n    The 'data' property is a tuple of trace instances\n    that may be specified as:\n      - A list or tuple of trace instances\n        (e.g. [Scatter(...), Bar(...)])\n      - A list or tuple of dicts of string/value properties where:\n        - The 'type' property specifies the trace type\n            One of: ['area', 'bar', 'barpolar', 'box',\n                     'candlestick', 'carpet', 'choropleth', 'cone',\n                     'contour', 'contourcarpet', 'heatmap',\n                     'heatmapgl', 'histogram', 'histogram2d',\n                     'histogram2dcontour', 'isosurface', 'mesh3d',\n                     'ohlc', 'parcats', 'parcoords', 'pie',\n                     'pointcloud', 'sankey', 'scatter',\n                     'scatter3d', 'scattercarpet', 'scattergeo',\n                     'scattergl', 'scattermapbox', 'scatterpolar',\n                     'scatterpolargl', 'scatterternary', 'splom',\n                     'streamtube', 'sunburst', 'surface', 'table',\n                     'violin', 'volume', 'waterfall']\n\n        - All remaining properties are passed to the constructor of\n          the specified trace type\n\n        (e.g. [{'type': 'scatter', ...}, {'type': 'bar, ...}])",
     "output_type": "error",
     "traceback": [
      "\u001b[1;31m---------------------------------------------------------------------------\u001b[0m",
      "\u001b[1;31mValueError\u001b[0m                                Traceback (most recent call last)",
      "\u001b[1;32m<ipython-input-4-8bfafe270a15>\u001b[0m in \u001b[0;36m<module>\u001b[1;34m\u001b[0m\n\u001b[0;32m      3\u001b[0m \u001b[0my\u001b[0m \u001b[1;33m=\u001b[0m \u001b[0mnp\u001b[0m\u001b[1;33m.\u001b[0m\u001b[0msin\u001b[0m\u001b[1;33m(\u001b[0m\u001b[0mt\u001b[0m\u001b[1;33m)\u001b[0m\u001b[1;33m\u001b[0m\u001b[1;33m\u001b[0m\u001b[0m\n\u001b[0;32m      4\u001b[0m \u001b[1;33m\u001b[0m\u001b[0m\n\u001b[1;32m----> 5\u001b[1;33m \u001b[0mfig\u001b[0m \u001b[1;33m=\u001b[0m \u001b[0mgo\u001b[0m\u001b[1;33m.\u001b[0m\u001b[0mFigure\u001b[0m\u001b[1;33m(\u001b[0m\u001b[0mdata\u001b[0m\u001b[1;33m=\u001b[0m\u001b[0mgo\u001b[0m\u001b[1;33m.\u001b[0m\u001b[0mScatter\u001b[0m\u001b[1;33m(\u001b[0m\u001b[0mx\u001b[0m\u001b[1;33m=\u001b[0m\u001b[0mt\u001b[0m\u001b[1;33m,\u001b[0m \u001b[0my\u001b[0m\u001b[1;33m=\u001b[0m\u001b[0my\u001b[0m\u001b[1;33m,\u001b[0m \u001b[0mmode\u001b[0m\u001b[1;33m=\u001b[0m\u001b[1;34m'markers'\u001b[0m\u001b[1;33m)\u001b[0m\u001b[1;33m)\u001b[0m\u001b[1;33m\u001b[0m\u001b[1;33m\u001b[0m\u001b[0m\n\u001b[0m\u001b[0;32m      6\u001b[0m \u001b[1;33m\u001b[0m\u001b[0m\n\u001b[0;32m      7\u001b[0m \u001b[0mfig\u001b[0m\u001b[1;33m.\u001b[0m\u001b[0mshow\u001b[0m\u001b[1;33m(\u001b[0m\u001b[1;33m)\u001b[0m\u001b[1;33m\u001b[0m\u001b[1;33m\u001b[0m\u001b[0m\n",
      "\u001b[1;32m~\\Anaconda3\\lib\\site-packages\\plotly\\graph_objs\\_figure.py\u001b[0m in \u001b[0;36m__init__\u001b[1;34m(self, data, layout, frames, skip_invalid, **kwargs)\u001b[0m\n\u001b[0;32m    508\u001b[0m         \"\"\"\n\u001b[0;32m    509\u001b[0m         super(Figure,\n\u001b[1;32m--> 510\u001b[1;33m               self).__init__(data, layout, frames, skip_invalid, **kwargs)\n\u001b[0m\u001b[0;32m    511\u001b[0m \u001b[1;33m\u001b[0m\u001b[0m\n\u001b[0;32m    512\u001b[0m     def add_area(\n",
      "\u001b[1;32m~\\Anaconda3\\lib\\site-packages\\plotly\\basedatatypes.py\u001b[0m in \u001b[0;36m__init__\u001b[1;34m(self, data, layout_plotly, frames, skip_invalid, **kwargs)\u001b[0m\n\u001b[0;32m    150\u001b[0m         \u001b[1;31m# ### Import traces ###\u001b[0m\u001b[1;33m\u001b[0m\u001b[1;33m\u001b[0m\u001b[1;33m\u001b[0m\u001b[0m\n\u001b[0;32m    151\u001b[0m         data = self._data_validator.validate_coerce(data,\n\u001b[1;32m--> 152\u001b[1;33m                                                     skip_invalid=skip_invalid)\n\u001b[0m\u001b[0;32m    153\u001b[0m \u001b[1;33m\u001b[0m\u001b[0m\n\u001b[0;32m    154\u001b[0m         \u001b[1;31m# ### Save tuple of trace objects ###\u001b[0m\u001b[1;33m\u001b[0m\u001b[1;33m\u001b[0m\u001b[1;33m\u001b[0m\u001b[0m\n",
      "\u001b[1;32m~\\Anaconda3\\lib\\site-packages\\_plotly_utils\\basevalidators.py\u001b[0m in \u001b[0;36mvalidate_coerce\u001b[1;34m(self, v, skip_invalid)\u001b[0m\n\u001b[0;32m   2363\u001b[0m                 \u001b[0mv\u001b[0m \u001b[1;33m=\u001b[0m \u001b[1;33m[\u001b[0m\u001b[1;33m]\u001b[0m\u001b[1;33m\u001b[0m\u001b[1;33m\u001b[0m\u001b[0m\n\u001b[0;32m   2364\u001b[0m             \u001b[1;32melse\u001b[0m\u001b[1;33m:\u001b[0m\u001b[1;33m\u001b[0m\u001b[1;33m\u001b[0m\u001b[0m\n\u001b[1;32m-> 2365\u001b[1;33m                 \u001b[0mself\u001b[0m\u001b[1;33m.\u001b[0m\u001b[0mraise_invalid_val\u001b[0m\u001b[1;33m(\u001b[0m\u001b[0mv\u001b[0m\u001b[1;33m)\u001b[0m\u001b[1;33m\u001b[0m\u001b[1;33m\u001b[0m\u001b[0m\n\u001b[0m\u001b[0;32m   2366\u001b[0m \u001b[1;33m\u001b[0m\u001b[0m\n\u001b[0;32m   2367\u001b[0m         \u001b[1;32mreturn\u001b[0m \u001b[0mv\u001b[0m\u001b[1;33m\u001b[0m\u001b[1;33m\u001b[0m\u001b[0m\n",
      "\u001b[1;32m~\\Anaconda3\\lib\\site-packages\\_plotly_utils\\basevalidators.py\u001b[0m in \u001b[0;36mraise_invalid_val\u001b[1;34m(self, v, inds)\u001b[0m\n\u001b[0;32m    275\u001b[0m             \u001b[0mtyp\u001b[0m\u001b[1;33m=\u001b[0m\u001b[0mtype_str\u001b[0m\u001b[1;33m(\u001b[0m\u001b[0mv\u001b[0m\u001b[1;33m)\u001b[0m\u001b[1;33m,\u001b[0m\u001b[1;33m\u001b[0m\u001b[1;33m\u001b[0m\u001b[0m\n\u001b[0;32m    276\u001b[0m             \u001b[0mv\u001b[0m\u001b[1;33m=\u001b[0m\u001b[0mrepr\u001b[0m\u001b[1;33m(\u001b[0m\u001b[0mv\u001b[0m\u001b[1;33m)\u001b[0m\u001b[1;33m,\u001b[0m\u001b[1;33m\u001b[0m\u001b[1;33m\u001b[0m\u001b[0m\n\u001b[1;32m--> 277\u001b[1;33m             valid_clr_desc=self.description()))\n\u001b[0m\u001b[0;32m    278\u001b[0m \u001b[1;33m\u001b[0m\u001b[0m\n\u001b[0;32m    279\u001b[0m     \u001b[1;32mdef\u001b[0m \u001b[0mraise_invalid_elements\u001b[0m\u001b[1;33m(\u001b[0m\u001b[0mself\u001b[0m\u001b[1;33m,\u001b[0m \u001b[0minvalid_els\u001b[0m\u001b[1;33m)\u001b[0m\u001b[1;33m:\u001b[0m\u001b[1;33m\u001b[0m\u001b[1;33m\u001b[0m\u001b[0m\n",
      "\u001b[1;31mValueError\u001b[0m: \n    Invalid value of type 'plotly.graph_objs.Scatter' received for the 'data' property of \n        Received value: Scatter({\n    'mode': 'markers',\n    'x': array([ 0.        ,  0.1010101 ,  0.2020202 ,  0.3030303 ,  0.4040404 ,\n                 0.50505051,  0.60606061,  0.70707071,  0.80808081,  0.90909091,\n                 1.01010101,  1.11111111,  1.21212121,  1.31313131,  1.41414141,\n                 1.51515152,  1.61616162,  1.71717172,  1.81818182,  1.91919192,\n                 2.02020202,  2.12121212,  2.22222222,  2.32323232,  2.42424242,\n                 2.52525253,  2.62626263,  2.72727273,  2.82828283,  2.92929293,\n                 3.03030303,  3.13131313,  3.23232323,  3.33333333,  3.43434343,\n                 3.53535354,  3.63636364,  3.73737374,  3.83838384,  3.93939394,\n                 4.04040404,  4.14141414,  4.24242424,  4.34343434,  4.44444444,\n                 4.54545455,  4.64646465,  4.74747475,  4.84848485,  4.94949495,\n                 5.05050505,  5.15151515,  5.25252525,  5.35353535,  5.45454545,\n                 5.55555556,  5.65656566,  5.75757576,  5.85858586,  5.95959596,\n                 6.06060606,  6.16161616,  6.26262626,  6.36363636,  6.46464646,\n                 6.56565657,  6.66666667,  6.76767677,  6.86868687,  6.96969697,\n                 7.07070707,  7.17171717,  7.27272727,  7.37373737,  7.47474747,\n                 7.57575758,  7.67676768,  7.77777778,  7.87878788,  7.97979798,\n                 8.08080808,  8.18181818,  8.28282828,  8.38383838,  8.48484848,\n                 8.58585859,  8.68686869,  8.78787879,  8.88888889,  8.98989899,\n                 9.09090909,  9.19191919,  9.29292929,  9.39393939,  9.49494949,\n                 9.5959596 ,  9.6969697 ,  9.7979798 ,  9.8989899 , 10.        ]),\n    'y': array([ 0.        ,  0.10083842,  0.20064886,  0.2984138 ,  0.39313661,\n                 0.48385164,  0.56963411,  0.64960951,  0.72296256,  0.78894546,\n                 0.84688556,  0.8961922 ,  0.93636273,  0.96698762,  0.98775469,\n                 0.99845223,  0.99897117,  0.98930624,  0.96955595,  0.93992165,\n                 0.90070545,  0.85230712,  0.79522006,  0.73002623,  0.65739025,\n                 0.57805259,  0.49282204,  0.40256749,  0.30820902,  0.21070855,\n                 0.11106004,  0.01027934, -0.09060615, -0.19056796, -0.28858706,\n                -0.38366419, -0.47483011, -0.56115544, -0.64176014, -0.7158225 ,\n                -0.7825875 , -0.84137452, -0.89158426, -0.93270486, -0.96431712,\n                -0.98609877, -0.99782778, -0.99938456, -0.99075324, -0.97202182,\n                -0.94338126, -0.90512352, -0.85763861, -0.80141062, -0.73701276,\n                -0.66510151, -0.58640998, -0.50174037, -0.41195583, -0.31797166,\n                -0.22074597, -0.12126992, -0.0205576 ,  0.0803643 ,  0.18046693,\n                 0.27872982,  0.37415123,  0.46575841,  0.55261747,  0.63384295,\n                 0.7086068 ,  0.77614685,  0.83577457,  0.8868821 ,  0.92894843,\n                 0.96154471,  0.98433866,  0.99709789,  0.99969234,  0.99209556,\n                 0.97438499,  0.94674118,  0.90944594,  0.86287948,  0.8075165 ,\n                 0.74392141,  0.6727425 ,  0.59470541,  0.51060568,  0.42130064,\n                 0.32770071,  0.23076008,  0.13146699,  0.03083368, -0.07011396,\n                -0.17034683, -0.26884313, -0.36459873, -0.45663749, -0.54402111])\n})\n\n    The 'data' property is a tuple of trace instances\n    that may be specified as:\n      - A list or tuple of trace instances\n        (e.g. [Scatter(...), Bar(...)])\n      - A list or tuple of dicts of string/value properties where:\n        - The 'type' property specifies the trace type\n            One of: ['area', 'bar', 'barpolar', 'box',\n                     'candlestick', 'carpet', 'choropleth', 'cone',\n                     'contour', 'contourcarpet', 'heatmap',\n                     'heatmapgl', 'histogram', 'histogram2d',\n                     'histogram2dcontour', 'isosurface', 'mesh3d',\n                     'ohlc', 'parcats', 'parcoords', 'pie',\n                     'pointcloud', 'sankey', 'scatter',\n                     'scatter3d', 'scattercarpet', 'scattergeo',\n                     'scattergl', 'scattermapbox', 'scatterpolar',\n                     'scatterpolargl', 'scatterternary', 'splom',\n                     'streamtube', 'sunburst', 'surface', 'table',\n                     'violin', 'volume', 'waterfall']\n\n        - All remaining properties are passed to the constructor of\n          the specified trace type\n\n        (e.g. [{'type': 'scatter', ...}, {'type': 'bar, ...}])"
     ]
    }
   ],
   "source": [
    "N = 1000\n",
    "t = np.linspace(0, 10, 100)\n",
    "y = np.sin(t)\n",
    "\n",
    "fig = go.Figure(data=go.Scatter(x=t, y=y, mode='markers'))\n",
    "\n",
    "fig.show()"
   ]
  },
  {
   "cell_type": "code",
   "execution_count": null,
   "metadata": {},
   "outputs": [],
   "source": []
  }
 ],
 "metadata": {
  "kernelspec": {
   "display_name": "Python 3",
   "language": "python",
   "name": "python3"
  },
  "language_info": {
   "codemirror_mode": {
    "name": "ipython",
    "version": 3
   },
   "file_extension": ".py",
   "mimetype": "text/x-python",
   "name": "python",
   "nbconvert_exporter": "python",
   "pygments_lexer": "ipython3",
   "version": "3.7.1"
  }
 },
 "nbformat": 4,
 "nbformat_minor": 4
}
