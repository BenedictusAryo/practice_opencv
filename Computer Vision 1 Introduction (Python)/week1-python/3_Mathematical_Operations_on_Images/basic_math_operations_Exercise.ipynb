{
 "cells": [
  {
   "cell_type": "markdown",
   "metadata": {
    "colab_type": "text",
    "id": "ddzcGwmNnVKO"
   },
   "source": [
    "# <font style=\"color:rgb(50,120,229)\">Overview</font>\n",
    "In this section, we will go over some basic mathematical operations. The most basic operations like addition and multiplication are very heavily used in all image processing and computer vision applications. We will take a few examples to illustrate the concepts.\n",
    "\n",
    "We will also look at a few pitfalls in OpenCV which one should be aware of while doing mathematical operations on matrices.\n",
    "\n",
    "Lot of CV practitioners have a difficult time with arithmetic operations since they don't take care of the data types they are dealing with fully and waste a lot of time on debugging trivial bugs.\n",
    "\n",
    "We will look into two simple operations on images that change the brightness and contrast of the image which use the arithmetic operations like addition and multiplication respectively."
   ]
  },
  {
   "cell_type": "markdown",
   "metadata": {},
   "source": [
    "# <font style = \"color:rgb(50,120,229)\">Datatype Conversion</font>\n",
    "Before we get into any mathematical operations, it is very important to understand the data types used and how to convert from one to another.\n",
    "\n",
    "As we saw in previous modules, an image is represented as a numpy array once it's read using **`cv2.imread`** function. The default datatype of this object is **unsigned integer** (**8 bits**). For most Arithmentic operations like multiplication or division, we need to convert the array type to floating point with each pixel having **16, 32 or 64 bits** of data. This helps prevent overflow while working with the images."
   ]
  },
  {
   "cell_type": "markdown",
   "metadata": {},
   "source": [
    "Most of the time we dont need to work using float64 and float32 is enough for most image processing operations ( even float16 )"
   ]
  },
  {
   "cell_type": "code",
   "execution_count": null,
   "metadata": {
    "colab": {},
    "colab_type": "code",
    "id": "b5fhX_HXnVKU"
   },
   "outputs": [],
   "source": [
    "# Import libraries\n",
    "import cv2\n",
    "import numpy as np\n",
    "from dataPath import DATA_PATH\n",
    "import matplotlib.pyplot as plt\n",
    "%matplotlib inline"
   ]
  },
  {
   "cell_type": "code",
   "execution_count": null,
   "metadata": {
    "colab": {},
    "colab_type": "code",
    "id": "fryHximsnVKa"
   },
   "outputs": [],
   "source": [
    "# Read image\n"
   ]
  },
  {
   "cell_type": "code",
   "execution_count": null,
   "metadata": {},
   "outputs": [],
   "source": []
  },
  {
   "cell_type": "markdown",
   "metadata": {},
   "source": [
    "The scale or the scaling factor reduces the range of **0-255** to **0-1**, hence all the floating point numbers now range between 0-1. When we convert back to unsigned integer we use the **reciprocal** of the scaling factor and the range is converted from 0-1 to 0-255."
   ]
  },
  {
   "cell_type": "code",
   "execution_count": null,
   "metadata": {},
   "outputs": [],
   "source": []
  },
  {
   "cell_type": "markdown",
   "metadata": {
    "colab_type": "text",
    "id": "ytt4jllpnVKT"
   },
   "source": [
    "# <font style=\"color:rgb(50,120,229)\">Contrast Enhancement</font>\n",
    "Many definitions of contrast exist in literature. Without going into the gory details, roughly speaking it is the difference in intensity between the brightest and darkest regions of a given image. Higher the difference, higher is the contrast. The maximum contrast of an image is also known as **Dynamic Range**. In an image with good contrast, objects are easily discernible.\n",
    "\n",
    "One of the easiest ways to improve contrast of an image is Intensity Scaling\n",
    "\n",
    "In this approach, a scale factor ( $\\alpha$ ) is multiplied with intensity values of all the pixels. Given below is the code snippet to do the same. Intensity scaling is represented by the following equation \n",
    "\n",
    " $$\n",
    " I_o = \\alpha I\n",
    " $$\n"
   ]
  },
  {
   "cell_type": "markdown",
   "metadata": {},
   "source": [
    "## <font style=\"color:rgb(50,120,229)\">Code for Contrast Enhancement</font>"
   ]
  },
  {
   "cell_type": "markdown",
   "metadata": {},
   "source": [
    "In the code below, we will apply the above mentioned formulas to get contrast enhanced images.\n",
    "\n",
    "We will increase the contrast by 30%."
   ]
  },
  {
   "cell_type": "code",
   "execution_count": null,
   "metadata": {
    "colab": {},
    "colab_type": "code",
    "id": "XQE-YwwJnVKd",
    "outputId": "c4f829d9-8675-47fe-b6ad-94142d78423e"
   },
   "outputs": [],
   "source": []
  },
  {
   "cell_type": "markdown",
   "metadata": {},
   "source": [
    "## <font style=\"color:rgb(50,120,229)\">What's wrong?</font>\n",
    "Why did these simple operations gave such undesirable results? To answer that, let us do a quick check of the image properties.\n"
   ]
  },
  {
   "cell_type": "code",
   "execution_count": null,
   "metadata": {
    "colab": {},
    "colab_type": "code",
    "id": "1CbOUqlenVKj",
    "outputId": "f1a23d4c-af8b-4453-b060-824fdb91a8b2"
   },
   "outputs": [],
   "source": []
  },
  {
   "cell_type": "markdown",
   "metadata": {
    "colab_type": "text",
    "id": "glAiKnUtnVKn"
   },
   "source": [
    "### <font style = \"color:rgb(8,133,37)\">Issue with Contrast Enhancement code </font>\n",
    "The white display in case of contrastHigh is more of a display issue. Display functions expect the images to be in either of these 2 formats:\n",
    "1. If the image is in float datatype, then the range should be [0,1]. Anything above 255 is considered as white.\n",
    "1. If the image is in int datatype, then the range should be [0,255]\n",
    "\n",
    "### <font style = \"color:rgb(8,133,37)\">Solution </font>\n",
    "We can see that the datatype of contrastHigh is float and the max value is 331.5. This means that in order to get rid of this display problem, we can consider the above 2 points and make the image conform to any of the valid formats. So, to get rid of the problem, we can do the following:\n",
    "1. **`Clip`** the intensity values to **`0 ~ 255`** and change the data type to **`uint8`**.\n",
    "1. If you want to keep the image in float format, then **`Normalize`** the instensity values so that it lies in **`[0,1]`**"
   ]
  },
  {
   "cell_type": "code",
   "execution_count": null,
   "metadata": {
    "colab": {},
    "colab_type": "code",
    "id": "UTbRw2WunVKo",
    "outputId": "696555e8-bb67-46f9-a401-15467af4f31f"
   },
   "outputs": [],
   "source": []
  },
  {
   "cell_type": "markdown",
   "metadata": {
    "colab_type": "text",
    "id": "zmqNZD5NnVKS"
   },
   "source": [
    "# <font style=\"color:rgb(50,120,229)\">Brightness Enhancement</font>\n",
    "Brightness is a measure of light falling on the scene. In RGB color space, it can be thought of as the arithmetic mean of the R, G and B color values. To make an image brighter, the intensity values should be increased by some offset ( $\\beta$ ) and vice-versa. \n",
    "\n",
    "If $I$ is the input image, and $I_o$ is the output image, brightness enhanced image is given by the equation \n",
    "\n",
    "$$\n",
    "I_o = I + \\beta\n",
    "$$"
   ]
  },
  {
   "cell_type": "markdown",
   "metadata": {},
   "source": [
    "## <font style=\"color:rgb(50,120,229)\">Code for Brightness Enhancement</font>"
   ]
  },
  {
   "cell_type": "markdown",
   "metadata": {},
   "source": [
    "In the code below, we will apply the above mentioned formulas to get brightness enhanced images.\n",
    "\n",
    "We will increase the brightness by 50 intensity levels. ( Note that there are 255 intensity levels in a image)"
   ]
  },
  {
   "cell_type": "code",
   "execution_count": null,
   "metadata": {},
   "outputs": [],
   "source": []
  },
  {
   "cell_type": "markdown",
   "metadata": {},
   "source": [
    "## <font style=\"color:rgb(50,120,229)\">What's wrong?</font>\n",
    "Why did these simple operations gave such undesirable results? To answer that, let us do a quick check of the image properties.\n"
   ]
  },
  {
   "cell_type": "code",
   "execution_count": null,
   "metadata": {
    "colab": {},
    "colab_type": "code",
    "id": "1CbOUqlenVKj",
    "outputId": "f1a23d4c-af8b-4453-b060-824fdb91a8b2"
   },
   "outputs": [],
   "source": []
  },
  {
   "cell_type": "markdown",
   "metadata": {
    "colab_type": "text",
    "id": "glAiKnUtnVKn"
   },
   "source": [
    "### <font style=\"color:rgb(8,133,37)\">Issue with Brightness Enhancement Code </font>\n",
    "The highest pixel intensity in the original image is 255. Since we have added 50 to each pixel, the highest pixel intensity in `brightHigh` image should have been `305`. But we can see that the highest pixel intensity is in brightHigh image is `255`.\n",
    "\n",
    "This is happening because of the uint8 datatype. Since the maximum value that a unsigned 8 bit integer can hold is 255, any value greater than that is causing an **`overflow`**.\n",
    "\n",
    "This is a much more serious problem than the display issue we encountered earlier. These kind of bugs go undetected and cause havoc in the final application as they will be difficult to debug also."
   ]
  },
  {
   "cell_type": "markdown",
   "metadata": {},
   "source": [
    "Let us take an example to understand what was going on in the above case."
   ]
  },
  {
   "cell_type": "code",
   "execution_count": null,
   "metadata": {
    "colab": {},
    "colab_type": "code",
    "id": "Jo5dmRDvnVKt",
    "outputId": "4a397d35-8bea-41c8-f6b2-9c9bb996e80a"
   },
   "outputs": [],
   "source": []
  },
  {
   "cell_type": "code",
   "execution_count": null,
   "metadata": {
    "colab": {},
    "colab_type": "code",
    "id": "vNB-rUYRnVKw",
    "outputId": "c764a660-6025-4b07-a021-7cadf1a06cb3"
   },
   "outputs": [],
   "source": []
  },
  {
   "cell_type": "markdown",
   "metadata": {
    "colab_type": "text",
    "id": "Vm6w1RcFnVKz"
   },
   "source": [
    "You can see that the element a[1,1] should have been 260. but instead it overflowed and rolled over. There will be a similar problem if we subtract."
   ]
  },
  {
   "cell_type": "markdown",
   "metadata": {
    "colab_type": "text",
    "id": "OtsGKWOXnVK0"
   },
   "source": [
    "Let us see another interesting nuisance."
   ]
  },
  {
   "cell_type": "code",
   "execution_count": null,
   "metadata": {
    "colab": {},
    "colab_type": "code",
    "id": "fmqjVxUznVK1",
    "outputId": "a4ee9de6-64b2-4d59-fc2f-e990dab8d70b"
   },
   "outputs": [],
   "source": []
  },
  {
   "cell_type": "markdown",
   "metadata": {},
   "source": [
    "And this?"
   ]
  },
  {
   "cell_type": "code",
   "execution_count": null,
   "metadata": {
    "colab": {},
    "colab_type": "code",
    "id": "0efM4TggnVK6",
    "outputId": "c5676ac0-7bf6-494c-b5f9-131e315f9bc2"
   },
   "outputs": [],
   "source": []
  },
  {
   "cell_type": "markdown",
   "metadata": {
    "colab_type": "text",
    "id": "sAz6l48ynVK_"
   },
   "source": [
    "In the first case, both operands (a and 130) are uint8 and thus the output is uint8 and hence the underflow.\n",
    "\n",
    "But in the second case, the 2nd operand has a type int16. Thus, the final output becomes int16 and thus, doesnt underflow.\n",
    "\n",
    "This shows a major Pitfall of using uint8 while dealing with arithmetic operations on images.\n",
    "\n",
    "Thus, it is important to convert the images to int or float(recommended) data types while doing arithmetic operations (like addition, subraction multiplication etc) on images to avoid undesirable results."
   ]
  },
  {
   "cell_type": "markdown",
   "metadata": {
    "colab_type": "text",
    "id": "glAiKnUtnVKn"
   },
   "source": [
    "### <font style=\"color:rgb(8,133,37)\">Solution </font>\n",
    "In order to get rid of this problem, we can do the following:\n",
    "1. use opencv to handle uint8 arithmetic\n",
    "1. we should do all mathematical operations at a high dynamic range by converting the datatype of the operands to higher order integers or float, whichever is applicable.\n",
    "\n",
    "We will see how to get the resolve these issues and get the correct outputs."
   ]
  },
  {
   "cell_type": "markdown",
   "metadata": {
    "colab_type": "text",
    "id": "KkWaikuTnVLC"
   },
   "source": [
    "### <font style=\"color:rgb(8,133,37)\">Solution 1 : Use opencv functions</font>"
   ]
  },
  {
   "cell_type": "code",
   "execution_count": null,
   "metadata": {
    "colab": {},
    "colab_type": "code",
    "id": "ETRlWRh7nVLE",
    "outputId": "dd894382-3d22-461f-b582-c3dfbe644ade"
   },
   "outputs": [],
   "source": []
  },
  {
   "cell_type": "markdown",
   "metadata": {
    "colab_type": "text",
    "id": "4vq5nQh9nVLI"
   },
   "source": [
    "Clipping"
   ]
  },
  {
   "cell_type": "markdown",
   "metadata": {
    "colab_type": "text",
    "id": "zmQIIN5xnVLJ"
   },
   "source": [
    "### <font style=\"color:rgb(8,133,37)\">Solution 2a: Convert to int32/int64</font>\n",
    "\n",
    "You should convert to higher integer types to avoid overflow and underflow situations. \n",
    "Perform clipping if necessary and bring it back to uint8 in the final stage as that is what the display functions expect."
   ]
  },
  {
   "cell_type": "code",
   "execution_count": null,
   "metadata": {
    "colab": {},
    "colab_type": "code",
    "id": "3PqhmG4PnVLK",
    "outputId": "711a8672-0df0-4ad3-c75e-4205ce224b04"
   },
   "outputs": [],
   "source": []
  },
  {
   "cell_type": "code",
   "execution_count": null,
   "metadata": {
    "colab": {},
    "colab_type": "code",
    "id": "DmZ4N7H-nVLQ",
    "outputId": "d146a421-d93f-4efd-dc7e-85906cd10016"
   },
   "outputs": [],
   "source": []
  },
  {
   "cell_type": "markdown",
   "metadata": {
    "colab_type": "text",
    "id": "NhBKBrZhnVLV"
   },
   "source": [
    "You can do the same with float datatype as well"
   ]
  },
  {
   "cell_type": "markdown",
   "metadata": {
    "colab_type": "text",
    "id": "7EyHd9o9nVLW"
   },
   "source": [
    "### <font style=\"color:rgb(8,133,37)\">Solution 2b: Convert to normalized float32/float64 </font>\n",
    "\n"
   ]
  },
  {
   "cell_type": "markdown",
   "metadata": {
    "colab_type": "text",
    "id": "w-t9jSrDnVLY"
   },
   "source": [
    "It is a good practice to convert the uint8 to float and normalize the range to [0,1] and change it back to [0,255] after doing all arithmetic operations"
   ]
  },
  {
   "cell_type": "code",
   "execution_count": null,
   "metadata": {
    "colab": {},
    "colab_type": "code",
    "id": "60umgw14nVLa",
    "outputId": "f0fa42fd-f60a-42c5-c329-200a6067c438"
   },
   "outputs": [],
   "source": []
  },
  {
   "cell_type": "code",
   "execution_count": null,
   "metadata": {
    "colab": {},
    "colab_type": "code",
    "id": "cnHvLMgYnVLg",
    "outputId": "2441523c-149b-4338-f38d-f1debb2d4d73"
   },
   "outputs": [],
   "source": []
  },
  {
   "cell_type": "markdown",
   "metadata": {},
   "source": [
    "# <font style=\"color:rgb(50,120,229)\">Final Solution </font>"
   ]
  },
  {
   "cell_type": "code",
   "execution_count": null,
   "metadata": {
    "colab": {},
    "colab_type": "code",
    "id": "PONG69u5nVLt",
    "outputId": "8d98a731-cc4b-4138-c565-e3f5f4b971a6"
   },
   "outputs": [],
   "source": []
  },
  {
   "cell_type": "code",
   "execution_count": null,
   "metadata": {
    "colab": {},
    "colab_type": "code",
    "id": "qT8vR8-SnVLx",
    "outputId": "f637a76a-1da5-46f3-daca-ddda3450d5d3"
   },
   "outputs": [],
   "source": []
  }
 ],
 "metadata": {
  "colab": {
   "name": "math_ops.ipynb",
   "provenance": [],
   "version": "0.3.2"
  },
  "kernelspec": {
   "display_name": "Python 3",
   "language": "python",
   "name": "python3"
  },
  "language_info": {
   "codemirror_mode": {
    "name": "ipython",
    "version": 3
   },
   "file_extension": ".py",
   "mimetype": "text/x-python",
   "name": "python",
   "nbconvert_exporter": "python",
   "pygments_lexer": "ipython3",
   "version": "3.7.1"
  }
 },
 "nbformat": 4,
 "nbformat_minor": 4
}
