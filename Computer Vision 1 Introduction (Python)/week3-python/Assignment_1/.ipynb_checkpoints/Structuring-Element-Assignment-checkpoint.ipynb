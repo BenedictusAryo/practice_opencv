{
    "cells": [
        {
            "cell_type": "markdown",
            "metadata": {},
            "source": [
                "# <font style = \"color:rgb(50,120,229)\">Implementation of Morphological Operations<\/font>\n",
                "We had discussed how to use dilation and erosion operations in the previous section. In this section, we will see what is going on under the hood. The most important concept that you need to understand is the Structuring element. We will discuss about the structuring element and how it is used for performing these morphological operations."
            ]
        },
        {
            "cell_type": "markdown",
            "metadata": {},
            "source": [
                "## <font style=\"color:rgb(50,120,229)\">Implement Method 2<\/font>\n",
                "1. Scan through the image and superimpose the kernel on the neighborhood of each pixel. \n",
                "1. Perform an AND operation of the neighborhood with the kernel.\n",
                "1. Replace the pixel value with the `maximum` value in the neighborhood given by the kernel. \n",
                "\n",
                "This means that you check every pixel and its neighborhood with respect to the kernel and change the pixel to white if any of the pixel in this neighborhood is white. OpenCV implements an optimized version of this method. This will work even if the image is not a binary image."
            ]
        },
        {
            "cell_type": "markdown",
            "metadata": {},
            "source": [
                "## <font style=\"color:rgb(50,120,229)\">Import Libraries <\/font>"
            ]
        },
        {
            "cell_type": "code",
            "execution_count": null,
            "metadata": {
                "collapsed": true
            },
            "outputs": [],
            "source": [
                "import cv2\n",
                "import numpy as np\n",
                "from dataPath import DATA_PATH\n",
                "import matplotlib.pyplot as plt\n",
                "%matplotlib inline"
            ]
        },
        {
            "cell_type": "code",
            "execution_count": null,
            "metadata": {
                "collapsed": true
            },
            "outputs": [],
            "source": [
                "import matplotlib\n",
                "matplotlib.rcParams['figure.figsize'] = (6.0, 6.0)\n",
                "matplotlib.rcParams['image.cmap'] = 'gray'"
            ]
        },
        {
            "cell_type": "markdown",
            "metadata": {},
            "source": [
                "# <font style=\"color:rgb(50,120,229)\">Create a Demo Image<\/font>\n",
                "## <font style=\"color:rgb(50,120,229)\">Create an empty matrix <\/font>"
            ]
        },
        {
            "cell_type": "code",
            "execution_count": null,
            "metadata": {
                "collapsed": true
            },
            "outputs": [],
            "source": [
                "im = np.zeros((10,10),dtype='uint8')\n",
                "print(im);\n",
                "plt.imshow(im)"
            ]
        },
        {
            "cell_type": "markdown",
            "metadata": {},
            "source": [
                "## <font style=\"color:rgb(50,120,229)\">Lets add some white blobs<\/font>\n",
                "\n",
                "We have added the blobs at different places so that all boundary cases are covered in this example."
            ]
        },
        {
            "cell_type": "code",
            "execution_count": null,
            "metadata": {
                "collapsed": true
            },
            "outputs": [],
            "source": [
                "im[0,1] = 1\n",
                "im[-1,0]= 1\n",
                "im[-2,-1]=1\n",
                "im[2,2] = 1\n",
                "im[5:8,5:8] = 1\n",
                "\n",
                "print(im)\n",
                "plt.imshow(im)"
            ]
        },
        {
            "cell_type": "markdown",
            "metadata": {},
            "source": [
                "This becomes our demo Image for illustration purpose"
            ]
        },
        {
            "cell_type": "markdown",
            "metadata": {},
            "source": [
                "## <font style=\"color:rgb(50,120,229)\">Create an Ellipse Structuring Element <\/font>\n",
                "Let us create a 3x3 ellipse structuring element."
            ]
        },
        {
            "cell_type": "code",
            "execution_count": null,
            "metadata": {
                "collapsed": true
            },
            "outputs": [],
            "source": [
                "element = cv2.getStructuringElement(cv2.MORPH_ELLIPSE, (3,3))\n",
                "print(element)"
            ]
        },
        {
            "cell_type": "code",
            "execution_count": null,
            "metadata": {
                "collapsed": true
            },
            "outputs": [],
            "source": [
                "ksize = element.shape[0]"
            ]
        },
        {
            "cell_type": "code",
            "execution_count": null,
            "metadata": {
                "collapsed": true
            },
            "outputs": [],
            "source": [
                "height,width = im.shape[:2]"
            ]
        },
        {
            "cell_type": "markdown",
            "metadata": {},
            "source": [
                "## <font style=\"color:rgb(50,120,229)\">First check the correct output using cv2.dilate<\/font>"
            ]
        },
        {
            "cell_type": "code",
            "execution_count": null,
            "metadata": {
                "collapsed": true,
                "scrolled": false
            },
            "outputs": [],
            "source": [
                "dilatedEllipseKernel = cv2.dilate(im, element)\n",
                "print(dilatedEllipseKernel)\n",
                "plt.imshow(dilatedEllipseKernel)"
            ]
        },
        {
            "cell_type": "markdown",
            "metadata": {},
            "source": [
                "## <font style=\"color:rgb(50,120,229)\">Write Code for Dilation from scratch<\/font>\n",
                "\n",
                "Create a VideoWriter object and write the result obtained at the end of each iteration to the object. Save the video to **`dilationScratch.avi`** and display it using markdown below:\n",
                "\n",
                "**`dilationScratch.avi` will come here**\n",
                "\n",
                "```<video width=\"320\" height=\"240\" controls>\n",
                "  <source src=\"dilationScratch.avi\" type=\"video\/mp4\">\n",
                "<\/video>```\n",
                "\n",
                "**Note**\n",
                "\n",
                "1. Use FPS as 10\n",
                "2. Before writing the frame, resize it to 50x50\n",
                "3. Convert the resized frame to BGR\n",
                "4. Release the object"
            ]
        },
        {
            "cell_type": "code",
            "execution_count": null,
            "metadata": {
                "collapsed": true,
                "scrolled": true
            },
            "outputs": [],
            "source": [
                "border = ksize\/\/2\n",
                "paddedIm = np.zeros((height + border*2, width + border*2))\n",
                "paddedIm = cv2.copyMakeBorder(im, border, border, border, border, cv2.BORDER_CONSTANT, value = 0)\n",
                "paddedDilatedIm = paddedIm.copy()\n",
                "\n",
                "# Create a VideoWriter object\n",
                "###\n",
                "### YOUR CODE HERE\n",
                "###\n",
                "\n",
                "for h_i in range(border, height+border):\n",
                "    for w_i in range(border,width+border):\n",
                "        ###\n",
                "        ### YOUR CODE HERE\n",
                "        ###\n",
                "        \n",
                "        # Resize output to 50x50 before writing it to the video\n",
                "        ###\n",
                "        ### YOUR CODE HERE\n",
                "        ###\n",
                "        # Convert resizedFrame to BGR before writing\n",
                "        ###\n",
                "        ### YOUR CODE HERE\n",
                "        ###\n",
                "\n",
                "# Release the VideoWriter object\n",
                "###\n",
                "### YOUR CODE HERE\n",
                "###\n"
            ]
        },
        {
            "cell_type": "code",
            "execution_count": null,
            "metadata": {
                "collapsed": true
            },
            "outputs": [],
            "source": [
                "# Display final image (cropped)\n",
                "###\n",
                "### YOUR CODE HERE\n",
                "###\n"
            ]
        },
        {
            "cell_type": "markdown",
            "metadata": {},
            "source": [
                "# <font style=\"color:rgb(50,120,229)\">Implement Erosion <\/font>"
            ]
        },
        {
            "cell_type": "markdown",
            "metadata": {},
            "source": [
                "## <font style=\"color:rgb(50,120,229)\">Check the correct output using cv2.erode <\/font>"
            ]
        },
        {
            "cell_type": "code",
            "execution_count": null,
            "metadata": {
                "collapsed": true,
                "scrolled": false
            },
            "outputs": [],
            "source": [
                "ErodedEllipseKernel = cv2.erode(im, element)\n",
                "print(ErodedEllipseKernel)\n",
                "plt.imshow(ErodedEllipseKernel);"
            ]
        },
        {
            "cell_type": "markdown",
            "metadata": {},
            "source": [
                "## <font style=\"color:rgb(50,120,229)\">Write code for Erosion from scratch<\/font>\n",
                "\n",
                "Create a VideoWriter object and write the result obtained at the end of each iteration to the object. Save the video to **`erosionScratch.avi`** and display it using markdown below:\n",
                "\n",
                "**`erosionScratch.avi` will come here**\n",
                "\n",
                "```<video width=\"320\" height=\"240\" controls>\n",
                "  <source src=\"erosionScratch.avi\" type=\"video\/mp4\">\n",
                "<\/video>```\n",
                "\n",
                "**Note**\n",
                "\n",
                "1. Use FPS as 10\n",
                "2. Before writing the frame, resize it to 50x50\n",
                "3. Convert the resized frame to BGR\n",
                "4. Release the object"
            ]
        },
        {
            "cell_type": "code",
            "execution_count": null,
            "metadata": {
                "collapsed": true,
                "scrolled": true
            },
            "outputs": [],
            "source": [
                "border = ksize\/\/2\n",
                "paddedIm = np.zeros((height + border*2, width + border*2))\n",
                "paddedIm = cv2.copyMakeBorder(im, border, border, border, border, cv2.BORDER_CONSTANT, value = 1)\n",
                "paddedErodedIm = paddedIm.copy()\n",
                "# Create a VideoWriter object\n",
                "###\n",
                "### YOUR CODE HERE\n",
                "###\n",
                "for h_i in range(border, height+border):\n",
                "    for w_i in range(border,width+border):\n",
                "        ###\n",
                "        ### YOUR CODE HERE\n",
                "        ###\n",
                "        # Resize output to 50x50 before writing it to the video\n",
                "        ###\n",
                "        ### YOUR CODE HERE\n",
                "        ###\n",
                "        # Convert resizedFrame to BGR before writing\n",
                "        ###\n",
                "        ### YOUR CODE HERE\n",
                "        ###\n",
                "# Release the VideoWriter object\n",
                "###\n",
                "### YOUR CODE HERE\n",
                "###\n"
            ]
        },
        {
            "cell_type": "code",
            "execution_count": null,
            "metadata": {
                "collapsed": true
            },
            "outputs": [],
            "source": [
                "# Display final image (cropped)\n",
                "###\n",
                "### YOUR CODE HERE\n",
                "###\n"
            ]
        }
    ],
    "metadata": {
        "kernelspec": {
            "display_name": "Python 3 [3.6]",
            "language": "python",
            "name": "python3"
        },
        "language_info": {
            "codemirror_mode": {
                "name": "ipython",
                "version": 3
            },
            "file_extension": ".py",
            "mimetype": "text\/x-python",
            "name": "python",
            "nbconvert_exporter": "python",
            "pygments_lexer": "ipython3",
            "version": "3.6.4"
        }
    },
    "nbformat": 4,
    "nbformat_minor": 2
}