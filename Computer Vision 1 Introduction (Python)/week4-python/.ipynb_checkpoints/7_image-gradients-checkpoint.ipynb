{
 "cells": [
  {
   "cell_type": "markdown",
   "metadata": {},
   "source": [
    "# <font style = \"color:rgb(50,120,229)\">Gradients</font>\n",
    "\n",
    "## <font style = \"color:rgb(50,120,229)\">Image Gradients</font> \n",
    "\n",
    "We have seen that we can design convolution kernels for blurring an image. We can also design a kernel that fires on sharp intensity discontinuities. \n",
    "\n",
    "**The directional change in intensity of pixels is called gradient.**\n",
    "\n",
    "The easiest way to understand gradients is to look at a few examples. Below is a piece of modern art created by yours truly. I have marked several locations on my art work with bright red dots and labeled them. \n",
    "\n",
    "![Image Gradients](https://www.learnopencv.com/wp-content/uploads/2017/12/opcv4face-w2-m3.2-pixelIntensity.png)\n",
    "    \n",
    "Consider a small 3x3 neighborhood around pixels A and B. All pixels in the neighborhood are of the same color. It is a flat region with no intensity change. In other words, the gradient is 0 in such regions. \n",
    "\n",
    "Now consider pixel C. The intensity changes abruptly from left to right, so we say that pixel C has a high positive gradient in x-direction. Similarly, pixel D has a high positive gradient in y-direction. Note that the y-axis is from the top left to bottom left edge of the image. \n",
    "\n",
    "Pixel E is similar to pixel C, but the intensity change is from white to black. The gradient is therefore negative in the x-direction. Similarly, pixel F has a negative gradient in the y-direction. \n",
    "\n",
    "Most of the gradients we have seen so far are maximum gradients from complete black to complete white. But in most pixels of a natural image, gradients are more subtle. In pixels G and I, we have gradients in the x- and y-directions, respectively, but they are quite subtle. \n",
    "\n",
    "A single pixel can have both X and Y Gradients. For example, there is a non-zero gradient at pixel H in both x- and y-directions. \n",
    "\n",
    "In color images, gradients are calculated for every channel separately. So at every pixel, we have six numbers representing the gradient --- ($r_x$ , $g_x$, $b_x$) and ($r_y$ , $g_y$, $b_y$). That said, in many applications we do not need color gradients. In those cases, color images are converted to grayscale and gradients are calculated using the grayscale image. "
   ]
  },
  {
   "cell_type": "markdown",
   "metadata": {},
   "source": [
    "# <font style=\"color:rgb(50,120,229)\">First Order Derivative Filters </font>"
   ]
  },
  {
   "cell_type": "markdown",
   "metadata": {},
   "source": [
    "## <font style = \"color:rgb(50,120,229)\">Prewitt Filter</font>\n",
    "\n",
    "Knowing what gradients are, we can guess what kind of filter will help us calculate the X and Y Gradients. \n",
    "\n",
    "Let us now focus on the X Gradient first and the logic will extend to the Y Gradient as well. For the X Gradient at a pixel, we want to find the **difference in intensity** to the right and to the left of the current pixel.The following convolution filter achieves that. \n",
    "\n",
    "\\begin{bmatrix}\n",
    "-1 & 0 &1\n",
    "\\end{bmatrix}\n",
    "\n",
    "Can we improve the above gradient estimate? First, it calculates the difference between just two pixels. As a rule of thumb, when we do calculations based on a small number of pixels, our estimates are noisy. So the above filter can be enlarged to calculate the gradient over a 3x3 patch instead of over a line. The filters below provide a slightly less noisy version of the gradients in the x- and y-directions. \n",
    "\n",
    "$$\n",
    "\\begin{bmatrix}\n",
    "-1 & 0 & 1\\\\\n",
    "-1 & 0 & 1\\\\\n",
    "-1 & 0 & 1\n",
    "\\end{bmatrix}\n",
    "\\quad\n",
    "\\quad\n",
    "\\quad\n",
    "\\quad\n",
    "\\quad\n",
    "\\quad\n",
    "\\begin{bmatrix}\n",
    "-1 & -1 & -1\\\\\n",
    "0 & 0 & 0\\\\\n",
    "1 & 1 & 1\n",
    "\\end{bmatrix}\n",
    "$$\n",
    "\n",
    "The above filters are called the **Prewitt filters.** By now, some of you may be wondering if image X and Y Gradients are the x and y derivatives of the image. And yes, they are exactly that. "
   ]
  },
  {
   "cell_type": "markdown",
   "metadata": {},
   "source": [
    "# <font style = \"color:rgb(50,120,229)\">Sobel Filter</font>\n",
    "\n",
    "To make gradient calculations even more robust and noisefree, the image can be Gaussian-blurred slightly before applying a gradient filter. As you know, blurring is also a convolution operation. So applying a Gaussian blur filter before applying the gradient filter would require two convolution operations. \n",
    "\n",
    "Wouldn’t it be cool if we could use just one convolution operation that would implicitly blur and then calculate the gradient operations? We are in luck! Convolution is associative. Therefore, it is possible to combine the two convolution operations into one. \n",
    "\n",
    "This where the **Sobel Filters** come in. They perform Gaussian smoothing implicitly.  The Sobel filters for X Gradient and Y Gradient calculations are shown below. \n",
    "\n",
    "$$\n",
    "\\begin{bmatrix}\n",
    "-1 & 0 & 1\\\\\n",
    "-2 & 0 & 2\\\\\n",
    "-1 & 0 & 1\n",
    "\\end{bmatrix}\n",
    "\\quad\n",
    "\\quad\n",
    "\\quad\n",
    "\\quad\n",
    "\\quad\n",
    "\\quad\n",
    "\\begin{bmatrix}\n",
    "-1 & -2 & -1\\\\\n",
    "0 & 0 & 0\\\\\n",
    "1 & 2 & 1\n",
    "\\end{bmatrix}\n",
    "$$\n",
    "\n",
    "## <font style = \"color:rgb(50,120,229)\">Magnitude and Direction of Gradient</font>\n",
    "\n",
    "As you can see, we have two different gradients -- the gradient in the x-direction $I_x$ and the gradient in the y-direction, $I_y$ . You can think of the gradient as the a-vector with x and y components. The combined strength of the X and Y Gradients is given by the magnitude of gradient, using the formula below. \n",
    "$$\n",
    "G = \\sqrt {I^2_x + I^2_y}\n",
    "$$\n",
    "\n",
    "The direction of the gradient is given by \n",
    "\n",
    "$$\n",
    "\\theta = \\arctan \\frac{I_y}{I_x}\n",
    "$$\n",
    "\n",
    "<font style = \"color:rgb(255,0,0)\">**Note:**</font> The magnitude and direction of gradient is calculated at every pixel. $I_x$ and $I_y$ are the images obtained by running the Sobel filters for X and Y Gradients of the image."
   ]
  },
  {
   "cell_type": "markdown",
   "metadata": {},
   "source": [
    "## <font style = \"color:rgb(50,120,229)\">Sobel Gradients Code & Tutorial</font>"
   ]
  },
  {
   "cell_type": "markdown",
   "metadata": {},
   "source": [
    "OpenCV provides a [**`Sobel`**](https://docs.opencv.org/4.1.0/d4/d86/group__imgproc__filter.html#gacea54f142e81b6758cb6f375ce782c8d) function for calculating the X and Y Gradients. Below, you can see the most common usage.\n",
    "\n",
    "### <font style = \"color:rgb(8,133,37)\">Function Syntax</font>\n",
    "\n",
    "```python\n",
    "dst\t=\tcv2.Sobel(\tsrc, ddepth, dx, dy[, dst[, ksize[, scale[, delta[, borderType]]]]]\t)\n",
    "```\n",
    "\n",
    "**Parameters**\n",
    "\n",
    "- **`src`**\tinput image.\n",
    "- **`dst`**\toutput image of the same size and the same number of channels as src .\n",
    "- **`ddepth`**\toutput image depth,in the case of 8-bit input images it will result in truncated derivatives.\n",
    "- **`dx`**\torder of the derivative x.\n",
    "- **`dy`**\torder of the derivative y.\n",
    "- **`ksize`**\tsize of the extended Sobel kernel; it must be 1, 3, 5, or 7.\n",
    "- **`scale`**\toptional scale factor for the computed derivative values; by default, no scaling is applied.\n",
    "- **`delta`**\toptional delta value that is added to the results prior to storing them in dst.\n",
    "- **`borderType`**\tpixel extrapolation method.\n",
    "\n",
    "Let us go over the following tutorial and see the code in action."
   ]
  },
  {
   "cell_type": "markdown",
   "metadata": {},
   "source": [
    "### <font style = \"color:rgb(8,133,37)\">Sobel Filter Example</font>"
   ]
  },
  {
   "cell_type": "markdown",
   "metadata": {},
   "source": [
    "Sobel function can be used with color images, but to keep things simple, we are reading the image as grayscale."
   ]
  },
  {
   "cell_type": "code",
   "execution_count": 1,
   "metadata": {},
   "outputs": [
    {
     "data": {
      "image/png": "[encoded data removed]",
      "text/plain": [
       "<Figure size 432x288 with 1 Axes>"
      ]
     },
     "metadata": {
      "needs_background": "light"
     },
     "output_type": "display_data"
    }
   ],
   "source": [
    "import cv2\n",
    "import numpy as np\n",
    "import matplotlib.pyplot as plt\n",
    "%matplotlib inline\n",
    "import matplotlib\n",
    "matplotlib.rcParams['image.cmap'] = 'gray'\n",
    "matplotlib.rcParams['axes.titlesize'] = 20\n",
    "\n",
    "filename = \"data/images/truth.png\"\n",
    "\n",
    "image = cv2.imread(filename, cv2.IMREAD_GRAYSCALE)\n",
    "\n",
    "# Check for invalid input\n",
    "if image is None:  \n",
    "    print(\"Could not open or find the image\")\n",
    "\n",
    "plt.imshow(image)\n",
    "plt.title(\"Original Image\")\n",
    "plt.show()"
   ]
  },
  {
   "cell_type": "markdown",
   "metadata": {},
   "source": [
    "The X and Y Gradients are calculated using the Sobel function. Note that the depth of the output images is set to `CV_32F` because gradients can take negative values."
   ]
  },
  {
   "cell_type": "code",
   "execution_count": 2,
   "metadata": {},
   "outputs": [],
   "source": [
    "# Apply sobel filter along X direction\n",
    "sobel_x = cv2.Sobel(image, cv2.CV_32F, dx=1, dy=0)\n",
    "\n",
    "# Apply sobel filter along Y direction\n",
    "sobel_y = cv2.Sobel(image, cv2.CV_32F, dx=0, dy=1)\n",
    "\n",
    "# Apply sobel filter along X & Y direction\n",
    "sobel_xy = cv2.Sobel(image, cv2.CV_32F, dx=1, dy=1)"
   ]
  },
  {
   "cell_type": "markdown",
   "metadata": {},
   "source": [
    "For display purposes, the image is normalized by scaling and shifting so that all pixel values lie between 0 and 1."
   ]
  },
  {
   "cell_type": "code",
   "execution_count": 3,
   "metadata": {},
   "outputs": [
    {
     "data": {
      "image/png": "[encoded data removed]",
      "text/plain": [
       "<Figure size 1440x720 with 3 Axes>"
      ]
     },
     "metadata": {
      "needs_background": "light"
     },
     "output_type": "display_data"
    }
   ],
   "source": [
    "# Normalize each Sobel Result for displaying\n",
    "# Sobel X\n",
    "cv2.normalize(sobel_x,\n",
    "              dst = sobel_x,\n",
    "              alpha = 0,\n",
    "              beta = 1,\n",
    "              norm_type = cv2.NORM_MINMAX,\n",
    "              dtype = cv2.CV_32F)\n",
    "# Sobel Y\n",
    "cv2.normalize(sobel_y,\n",
    "              dst = sobel_y,\n",
    "              alpha = 0,\n",
    "              beta = 1,\n",
    "              norm_type = cv2.NORM_MINMAX,\n",
    "              dtype = cv2.CV_32F)\n",
    "# Sobel XY\n",
    "cv2.normalize(sobel_xy,\n",
    "              dst = sobel_xy,\n",
    "              alpha = 0,\n",
    "              beta = 1,\n",
    "              norm_type = cv2.NORM_MINMAX,\n",
    "              dtype = cv2.CV_32F)\n",
    "\n",
    "plt.figure(figsize=(20,10))\n",
    "plt.subplot(131);plt.imshow(sobel_x);plt.title(\"Sobel X Gradients\", fontsize=20)\n",
    "plt.subplot(132);plt.imshow(sobel_y);plt.title(\"Sobel Y Gradients\", fontsize=20)\n",
    "plt.subplot(133);plt.imshow(sobel_xy);plt.title(\"Sobel X & Y Gradients\", fontsize=20)\n",
    "plt.show()"
   ]
  },
  {
   "cell_type": "markdown",
   "metadata": {},
   "source": [
    "<br><br><br>\n",
    "\n",
    "# <font style = \"color:rgb(50,120,229)\">Second Order Derivative Filters</font>\n",
    "\n",
    "We know that the Sobel operator calculates the first derivative in the x- and y-directions. When the intensity changes abruptly, the Sobel filter response fires up, so the response of the Sobel filter can be used as an edge detector. \n",
    "\n",
    "However, first derivative operators (like the Sobel operators) are not the only way to detect edges. Second derivative operators have a zero crossing at the location of the edges.\n",
    "\n",
    "![Second Order Derivative Filters](https://www.learnopencv.com/wp-content/uploads/2017/12/opcv4face-w2-m3.2-secondOrderDerivative.png)\n",
    "\n",
    "In the image above, we see the effects of first and second derivatives in the 1-d case. A 1-d edge is shown in black. Notice, the first derivative curve, shown in green, has a maximum at the location of the edge. The second derivative, shown in blue, has a zero crossing at the location of the edge. This fact is used to recognize edges.\n",
    "\n",
    "## <font style = \"color:rgb(50,120,229)\">Laplacian Filter</font>\n",
    "\n",
    "The [Laplacian](http://docs.opencv.org/3.0-beta/modules/imgproc/doc/filtering.html#laplacian) is a filter that is based on the second derivative. \n",
    "\n",
    "Mathematically, the Laplacian operator or filter is given by\n",
    "\n",
    "$$\n",
    "L(x,y) = \\frac{\\partial^2 I }{\\partial^2 x} +  \\frac{\\partial^2 I }{\\partial^2 y}\n",
    "$$\n",
    "\n",
    "I have to admit, that looks scary. But fortunately, after the mathematicians did their math, they told us the above expression reduces to the simple convolution kernel shown below. \n",
    "\n",
    "$$\n",
    "\\begin{bmatrix}\n",
    "0 & 1 & 0\\\\\n",
    "1 & -4 & 1\\\\\n",
    "0 & 1 & 0\n",
    "\\end{bmatrix}\n",
    "$$\n",
    "\n",
    "\n",
    "The Laplacian filter is very sensitive to noise and therefore it is important to smooth the image before applying it. \n",
    "\n",
    "**<font style = \"color:rgb(255,0,0)\">Note:</font>** As a rule of thumb, **summing and averaging operations are less affected by noise, and differencing operations are greatly affected by noise**. Here is a simple example. \n",
    "\n",
    "Let us consider two numbers. One is supposed to be 10 and the other is supposed to be 11, but because of a noise, the second number is recorded as 12. Now, the true difference between the numbers is 11 - 10 = 1. But because of noise, the difference is 12  - 10 = 2. So we have made a mistake of 100% while calculating the difference! \n",
    "\n",
    "On the other hand, the true sum of the two numbers is 11 + 10 = 21, but because of noise we estimate it to be 12 + 10 = 22. The error is ( 22 - 21 ) / 21 = 4.76%. \n",
    "\n",
    "So, while calculating derivatives we have to worry about noise, but while calculating integrals we don’t have to worry about noise. "
   ]
  },
  {
   "cell_type": "markdown",
   "metadata": {},
   "source": [
    "### <font style = \"color:rgb(8,133,37)\">Laplacian Filter in OpenCV</font>"
   ]
  },
  {
   "cell_type": "code",
   "execution_count": 17,
   "metadata": {},
   "outputs": [
    {
     "data": {
      "image/png": "[encoded data removed]",
      "text/plain": [
       "<Figure size 432x288 with 1 Axes>"
      ]
     },
     "metadata": {
      "needs_background": "light"
     },
     "output_type": "display_data"
    }
   ],
   "source": [
    "img = cv2.imread(\"data/images/truth.png\", cv2.IMREAD_GRAYSCALE)\n",
    "\n",
    "# Check for invalid input\n",
    "if image is None:  \n",
    "    print(\"Could not open or find the image\")\n",
    "\n",
    "plt.imshow(img)\n",
    "plt.title(\"Original Image\")\n",
    "plt.show()"
   ]
  },
  {
   "cell_type": "markdown",
   "metadata": {},
   "source": [
    "Apply laplacian function on the image after gaussian blurring. Note that the depth of the output images is set to `CV_32F` because gradients can take negative values"
   ]
  },
  {
   "cell_type": "code",
   "execution_count": 19,
   "metadata": {},
   "outputs": [
    {
     "data": {
      "image/png": "[encoded data removed]",
      "text/plain": [
       "<Figure size 720x360 with 1 Axes>"
      ]
     },
     "metadata": {
      "needs_background": "light"
     },
     "output_type": "display_data"
    }
   ],
   "source": [
    "kernelSize = 3\n",
    "\n",
    "# Applying GaussianBlur\n",
    "img_gaus = cv2.GaussianBlur(img, (3,3), 0, 0)\n",
    "\n",
    "# Applying Laplacian to the Gaussian blurred image\n",
    "img_laplacian = cv2.Laplacian(img_gaus, cv2.CV_32F, ksize = kernelSize,\n",
    "                              scale=1, delta=0)\n",
    "\n",
    "# Normalize result\n",
    "cv2.normalize(img_laplacian, dst = img_laplacian,\n",
    "              alpha = 0, beta = 1, norm_type = cv2.NORM_MINMAX,\n",
    "              dtype = cv2.CV_32F)\n",
    "\n",
    "# Visualize Result\n",
    "plt.figure(figsize=(10,5))\n",
    "plt.imshow(img_laplacian)\n",
    "plt.title(\"Laplacian Filter\")\n",
    "plt.show()"
   ]
  },
  {
   "cell_type": "markdown",
   "metadata": {},
   "source": [
    "You can easily make out the edges from the above laplacian image."
   ]
  },
  {
   "cell_type": "markdown",
   "metadata": {},
   "source": [
    "<br><br>\n",
    "\n",
    "# <font style = \"color:rgb(50,129,229)\">Application - Image Sharpening</font>\n",
    "\n",
    "In sharpening we want to enhance the edges and bring out more of the underlying texture. Although, sharpening can be performed using a single convolution filter, it is easy to understand it in terms an old photo enhancement technique called **unsharp** **masking**. This technique was developed back in the 1930s in Germany. It is fascinating to see the hacks people used back in those days to get a good photo. Wikipedia has the [story](https://en.wikipedia.org/wiki/Unsharp_masking).\n",
    "\n",
    "Fortunately, it is much easier for us to achieve unsharp masking digitally. \n",
    "\n",
    "1. **Step 1**: Blur the image to smooth out texture. The blurred image contains low frequency information of the original image. Let $I$ be the original image and $I_b$ be the blurred image. \n",
    "\n",
    "2. **Step 2**: Obtain the high frequency information of the original image by subtracting the blurred image from the original image. \n",
    "\n",
    "3. **Step 3**: Now, put back the high frequency information back in the image and control the amount using a parameter. The final sharpened image is therefore, \n",
    "\n",
    "    $$I_s = I + \\alpha  ( I − I_b) $$\n",
    "\n",
    "The figure below shows the three stages of unsharp masking"
   ]
  },
  {
   "cell_type": "markdown",
   "metadata": {},
   "source": [
    "| <center><img src=\"https://www.learnopencv.com/wp-content/uploads/2017/12/opcv4face-w2-m3.2-originalGray.png\" width =330 /></center> | <center><img src=\"https://www.learnopencv.com/wp-content/uploads/2017/12/opcv4face-w2-m3.2-BlurredImage.png\" width=330 /></center> | <center><img src=\"https://www.learnopencv.com/wp-content/uploads/2017/12/opcv4face-w2-m3.2-SharpenedImage.png\" width=330/></center> |\n",
    "| -------- | -------- | -------- |\n",
    "| <center>Original Image</center>    | <center>Blurred Image</center>     | <center>Sharpened Image</center>     |"
   ]
  },
  {
   "cell_type": "markdown",
   "metadata": {},
   "source": [
    "In practice, sharpening is implemented using a simple sharpening kernel that approximates the above behavior. All you need to do is convolve the image with the following kernel\n",
    "\n",
    "\n",
    "$$\n",
    "\\begin{bmatrix}\n",
    "0 & -1 & 0\\\\\n",
    "-1 & 5 & -1\\\\\n",
    "0 & -1 & 0\n",
    "\\end{bmatrix}\n",
    "$$\n",
    "\n",
    "\n",
    "The above kernel is obtained using $\\alpha=1$ and approximating $(I-I_b)$ using the Laplacian kernel. \n",
    "\n",
    "$$\n",
    "\\begin{bmatrix}\n",
    "0 & 0 & 0\\\\\n",
    "0 & 1 & 0\\\\\n",
    "0 & 0 & 0\n",
    "\\end{bmatrix}\n",
    "\\quad\n",
    "\\quad\n",
    "+\n",
    "\\quad\n",
    "\\quad\n",
    "\\begin{bmatrix}\n",
    "0 & -1 & 0\\\\\n",
    "-1 & 4 & -1\\\\\n",
    "0 & -1 & 0\n",
    "\\end{bmatrix}\n",
    "$$"
   ]
  },
  {
   "cell_type": "markdown",
   "metadata": {},
   "source": [
    "### <font style = \"color:rgb(8,133,37)\">Image Sharpening using kernel</font>\n",
    "\n",
    "The following tutorial implements image sharpening as a simple convolution operation."
   ]
  },
  {
   "cell_type": "code",
   "execution_count": null,
   "metadata": {},
   "outputs": [],
   "source": [
    "filename = DATA_PATH+\"images/sample.jpg\"\n",
    "\n",
    "image = cv2.imread(filename)\n",
    "\n",
    "if image is None:\n",
    "    print(\"Image not read\")"
   ]
  },
  {
   "cell_type": "markdown",
   "metadata": {},
   "source": [
    "The sharpening kernel is defined using double as the datatype so as to prevent overflow."
   ]
  },
  {
   "cell_type": "markdown",
   "metadata": {},
   "source": [
    "### <font style=\"color:rgb(8,133,37)\">Define the Kernel </font>"
   ]
  },
  {
   "cell_type": "code",
   "execution_count": null,
   "metadata": {},
   "outputs": [],
   "source": [
    "# Sharpen kernel\n",
    "sharpen = np.array((\n",
    "    [0, -1, 0],\n",
    "    [-1, 5, -1],\n",
    "    [0, -1, 0]), dtype=\"int\")"
   ]
  },
  {
   "cell_type": "markdown",
   "metadata": {},
   "source": [
    "Next, `filter2D` is used to perform the convolution.\n",
    "\n",
    "The third parameter (depth) is set to `-1` which means the bit-depth of the output image is the same as the input image. So if the input image is of type `CV_8UC3`, the output image will also be of the same type."
   ]
  },
  {
   "cell_type": "markdown",
   "metadata": {},
   "source": [
    "### <font style=\"color:rgb(8,133,37)\">Apply convolution </font>"
   ]
  },
  {
   "cell_type": "code",
   "execution_count": null,
   "metadata": {},
   "outputs": [],
   "source": [
    "# Using 2D filter by applying the sharpening kernel\n",
    "sharpenOutput = cv2.filter2D(image, -1, sharpen)\n",
    "\n",
    "plt.figure(figsize=[20,10])\n",
    "plt.subplot(121);plt.imshow(image[...,::-1]);plt.title(\"Original Image\")\n",
    "plt.subplot(122);plt.imshow(sharpenOutput[...,::-1]);plt.title(\"Sharpening Result\")"
   ]
  },
  {
   "cell_type": "markdown",
   "metadata": {},
   "source": [
    "You can observe how the result of sharpening accentuates the high frequency components ( edges, hariline etc )."
   ]
  }
 ],
 "metadata": {
  "kernelspec": {
   "display_name": "Python 3",
   "language": "python",
   "name": "python3"
  },
  "language_info": {
   "codemirror_mode": {
    "name": "ipython",
    "version": 3
   },
   "file_extension": ".py",
   "mimetype": "text/x-python",
   "name": "python",
   "nbconvert_exporter": "python",
   "pygments_lexer": "ipython3",
   "version": "3.7.4"
  }
 },
 "nbformat": 4,
 "nbformat_minor": 4
}
