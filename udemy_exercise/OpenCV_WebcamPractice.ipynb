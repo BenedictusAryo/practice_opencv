{
 "cells": [
  {
   "cell_type": "markdown",
   "metadata": {},
   "source": [
    "# Show Webcam OpenCV"
   ]
  },
  {
   "cell_type": "code",
   "execution_count": 1,
   "metadata": {},
   "outputs": [],
   "source": [
    "import cv2\n",
    "\n",
    "cap = cv2.VideoCapture(0)\n",
    "\n",
    "width = int(cap.get(cv2.CAP_PROP_FRAME_WIDTH))\n",
    "height = int(cap.get(cv2.CAP_PROP_FRAME_HEIGHT))\n",
    "\n",
    "while True:\n",
    "    \n",
    "    ret,frame = cap.read()\n",
    "    \n",
    "    cv2.imshow('frame', frame)\n",
    "    \n",
    "    if cv2.waitKey(1) & 0xFF == ord('q'):\n",
    "        break\n",
    "\n",
    "cap.release()\n",
    "cv2.destroyAllWindows()"
   ]
  },
  {
   "cell_type": "markdown",
   "metadata": {},
   "source": [
    "# Using Gray colormap"
   ]
  },
  {
   "cell_type": "code",
   "execution_count": 2,
   "metadata": {},
   "outputs": [],
   "source": [
    "import cv2\n",
    "\n",
    "cap = cv2.VideoCapture(0)\n",
    "\n",
    "width = int(cap.get(cv2.CAP_PROP_FRAME_WIDTH))\n",
    "height = int(cap.get(cv2.CAP_PROP_FRAME_HEIGHT))\n",
    "\n",
    "while True:\n",
    "    \n",
    "    ret,frame = cap.read()\n",
    "    \n",
    "    gray = cv2.cvtColor(frame, cv2.COLOR_BGR2GRAY)\n",
    "    cv2.imshow('frame', gray)\n",
    "    \n",
    "    if cv2.waitKey(1) & 0xFF == ord('q'):\n",
    "        break\n",
    "\n",
    "cap.release()\n",
    "cv2.destroyAllWindows()"
   ]
  },
  {
   "cell_type": "markdown",
   "metadata": {},
   "source": [
    "# Save webcam to mp4 camera"
   ]
  },
  {
   "cell_type": "code",
   "execution_count": 3,
   "metadata": {},
   "outputs": [],
   "source": [
    "import cv2\n",
    "\n",
    "cap = cv2.VideoCapture(0)\n",
    "\n",
    "width = int(cap.get(cv2.CAP_PROP_FRAME_WIDTH))\n",
    "height = int(cap.get(cv2.CAP_PROP_FRAME_HEIGHT))\n",
    "\n",
    "\n",
    "# WINDoWS -- *'DIVX'\n",
    "# Linux -- *'XVID'\n",
    "writer = cv2.VideoWriter('mysupervideo.mp4', \n",
    "                         cv2.VideoWriter_fourcc(*'XVID'), \n",
    "                         20, \n",
    "                         (width, height))\n",
    "\n",
    "while True:\n",
    "    \n",
    "    ret,frame = cap.read()\n",
    "    \n",
    "    # Operation (Drawing)\n",
    "    writer.write(frame)\n",
    "    \n",
    "    #gray = cv2.cvtColor(frame, cv2.COLOR_BGR2GRAY)\n",
    "    #cv2.imshow('frame', gray)\n",
    "    cv2.imshow('frame', frame)\n",
    "    \n",
    "    if cv2.waitKey(1) & 0xFF == ord('q'):\n",
    "        break\n",
    "\n",
    "cap.release()\n",
    "writer.release()\n",
    "cv2.destroyAllWindows()"
   ]
  },
  {
   "cell_type": "code",
   "execution_count": 6,
   "metadata": {},
   "outputs": [
    {
     "name": "stdout",
     "output_type": "stream",
     "text": [
      "-rw-rw-r-- 1 benedict benedict 295K Agu  1 12:10 mysupervideo.mp4\r\n"
     ]
    }
   ],
   "source": [
    "!ls -lh | grep .mp4"
   ]
  },
  {
   "cell_type": "markdown",
   "metadata": {},
   "source": [
    "# Using Video Files"
   ]
  },
  {
   "cell_type": "code",
   "execution_count": 10,
   "metadata": {},
   "outputs": [],
   "source": [
    "import cv2\n",
    "\n",
    "cap = cv2.VideoCapture('mysupervideo.mp4')\n",
    "\n",
    "if cap.isOpened() == False :\n",
    "    print('ERROR File NOT FOUND OR WRONG CODEC USED!')\n",
    "\n",
    "while cap.isOpened():\n",
    "    \n",
    "    ret, frame = cap.read()\n",
    "    \n",
    "    if ret == True:\n",
    "        \n",
    "        cv2.imshow('frame',frame)\n",
    "        \n",
    "        if cv2.waitKey(10) & 0xFF == ord('q'):\n",
    "            break\n",
    "    \n",
    "    else:\n",
    "        break\n",
    "        \n",
    "cap.release()\n",
    "cv2.destroyAllWindows()"
   ]
  },
  {
   "cell_type": "markdown",
   "metadata": {},
   "source": [
    "# Using Time delay"
   ]
  },
  {
   "cell_type": "code",
   "execution_count": 11,
   "metadata": {},
   "outputs": [],
   "source": [
    "import cv2\n",
    "import time\n",
    "\n",
    "cap = cv2.VideoCapture('mysupervideo.mp4')\n",
    "\n",
    "if cap.isOpened() == False :\n",
    "    print('ERROR File NOT FOUND OR WRONG CODEC USED!')\n",
    "\n",
    "while cap.isOpened():\n",
    "    \n",
    "    ret, frame = cap.read()\n",
    "    \n",
    "    if ret == True:\n",
    "        \n",
    "        # WRITER 20 FPS\n",
    "        \n",
    "        time.sleep(1/20)\n",
    "        \n",
    "        cv2.imshow('frame',frame)\n",
    "        \n",
    "        if cv2.waitKey(10) & 0xFF == ord('q'):\n",
    "            break\n",
    "    \n",
    "    else:\n",
    "        break\n",
    "        \n",
    "cap.release()\n",
    "cv2.destroyAllWindows()"
   ]
  },
  {
   "cell_type": "markdown",
   "metadata": {},
   "source": [
    "# Drawing on Video "
   ]
  },
  {
   "cell_type": "code",
   "execution_count": 17,
   "metadata": {},
   "outputs": [],
   "source": [
    "import cv2\n",
    "\n",
    "cap = cv2.VideoCapture(0)\n",
    "\n",
    "width = int(cap.get(cv2.CAP_PROP_FRAME_WIDTH))\n",
    "height = int(cap.get(cv2.CAP_PROP_FRAME_HEIGHT))\n",
    "\n",
    "# TOP LEFT CORNER\n",
    "x = width // 2\n",
    "y = height // 2\n",
    "\n",
    "# width and height of RECTANGLE\n",
    "w = width // 4\n",
    "h = height //4\n",
    "\n",
    "# BOTTOM RIGHT x + w, y + h\n",
    "\n",
    "while True:\n",
    "    \n",
    "    ret,frame = cap.read()\n",
    "    \n",
    "    cv2.rectangle(frame, (x,y), (x+w,y+h), \n",
    "                  color=(0,0,255), thickness=4)\n",
    "    \n",
    "    cv2.imshow('frame',frame)\n",
    "    \n",
    "    if cv2.waitKey(1) & 0xFF == ord('q'):\n",
    "        break\n",
    "\n",
    "cap.release()\n",
    "cv2.destroyAllWindows()"
   ]
  },
  {
   "cell_type": "markdown",
   "metadata": {},
   "source": [
    "# Drawing Interactive on Video"
   ]
  },
  {
   "cell_type": "code",
   "execution_count": 18,
   "metadata": {},
   "outputs": [],
   "source": [
    "import cv2\n",
    "\n",
    "\n",
    "\n",
    "## CALLBACK FUNCTION RECTANGLE\n",
    "def draw_rectangle(event,x,y,flags,param):\n",
    "    global pt1,pt2,topLeft_clicked,botRight_clicked\n",
    "    \n",
    "    if event == cv2.EVENT_LBUTTONDOWN:\n",
    "        \n",
    "        # RESET THE RECTANGLE (IT CHECKS IF RECTANGLE THERE)\n",
    "        if topLeft_clicked == True and botRight_clicked == True:\n",
    "            pt1 = (0,0)\n",
    "            pt2 = (0,0)\n",
    "            topLeft_clicked = False\n",
    "            botRight_clicked = False\n",
    "        \n",
    "        if topLeft_clicked == False:\n",
    "            pt1 = (x,y)\n",
    "            topLeft_clicked = True\n",
    "        \n",
    "        elif botRight_clicked == False:\n",
    "            pt2 = (x,y)\n",
    "            botRight_clicked = True\n",
    "\n",
    "## GLOBAL VARIABLES\n",
    "pt1 = (0,0)\n",
    "pt2 = (0,0)\n",
    "topLeft_clicked = False\n",
    "botRight_clicked = False\n",
    "\n",
    "## CONNECT TO THE CALLBACK\n",
    "cap = cv2.VideoCapture(0)\n",
    "\n",
    "cv2.namedWindow('Test')\n",
    "cv2.setMouseCallback('Test', draw_rectangle)\n",
    "\n",
    "while True:\n",
    "    \n",
    "    ret,frame = cap.read()\n",
    "    \n",
    "    # DRAWING ON THE FRAME BASED OFF THE GLOBAL VARIABLES\n",
    "    if topLeft_clicked == True:\n",
    "        cv2.circle(frame, center=pt1,\n",
    "                   radius=5,color=(0,0,255),thickness=-1)\n",
    "        \n",
    "    if topLeft_clicked and botRight_clicked:\n",
    "        cv2.rectangle(frame,pt1,pt2,(0,0,255),3)\n",
    "        \n",
    "    \n",
    "    cv2.imshow('Test',frame)\n",
    "    \n",
    "    if cv2.waitKey(1) & 0xFF == ord('q'):\n",
    "        break\n",
    "\n",
    "cap.release()\n",
    "cv2.destroyAllWindows()"
   ]
  },
  {
   "cell_type": "code",
   "execution_count": null,
   "metadata": {},
   "outputs": [],
   "source": []
  }
 ],
 "metadata": {
  "kernelspec": {
   "display_name": "Python 3",
   "language": "python",
   "name": "python3"
  },
  "language_info": {
   "codemirror_mode": {
    "name": "ipython",
    "version": 3
   },
   "file_extension": ".py",
   "mimetype": "text/x-python",
   "name": "python",
   "nbconvert_exporter": "python",
   "pygments_lexer": "ipython3",
   "version": "3.7.3"
  }
 },
 "nbformat": 4,
 "nbformat_minor": 2
}
